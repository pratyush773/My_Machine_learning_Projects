{
 "cells": [
  {
   "cell_type": "markdown",
   "metadata": {},
   "source": [
    "# Breast Cancer Detection"
   ]
  },
  {
   "cell_type": "markdown",
   "metadata": {},
   "source": [
    "Breast cancer is the most common cancer in the world today. Currently, the average risk of a woman developing breast cancer sometime in her life is about 12%. This means there is a 1 in 8 chance she will develop breast cancer. The American Cancer Society's estimates for breast cancer in the United States for 2019 are: \n",
    "- About 268,600 new cases of invasive breast cancer will be diagnosed in women. \n",
    "- About 62,930 new cases of carcinoma in situ (CIS) will be diagnosed (CIS is non-invasive and is the earliest form of breast cancer). \n",
    "- About 41,760 women will die from breast cancer.\n",
    "\n",
    "An early diagnosis of Breast Cancer can improve the chances of survival, as it can result in an early mediacal treatment to patient. The Aim of this project is to develop a machine learning model which can do an accurate classification of tumors as benign or mailgn which can suggest patient <b> whether to go through or prevent from undergoing treatments. </b>\n",
    "\n",
    "Can we classify the tumors by doing a analysis on a dataset provided by UCI?"
   ]
  },
  {
   "cell_type": "markdown",
   "metadata": {},
   "source": [
    "## Import necessary liabraries"
   ]
  },
  {
   "cell_type": "code",
   "execution_count": null,
   "metadata": {},
   "outputs": [
    {
     "name": "stderr",
     "output_type": "stream",
     "text": [
      "C:\\Users\\pratyusinha\\AppData\\Local\\Continuum\\anaconda3\\lib\\site-packages\\sklearn\\cross_validation.py:41: DeprecationWarning: This module was deprecated in version 0.18 in favor of the model_selection module into which all the refactored classes and functions are moved. Also note that the interface of the new CV iterators are different from that of this module. This module will be removed in 0.20.\n",
      "  \"This module will be removed in 0.20.\", DeprecationWarning)\n"
     ]
    }
   ],
   "source": [
    "import numpy as np \n",
    "import pandas as pd\n",
    "import sklearn  # for machine learning packages\n",
    "import matplotlib  # for plotting \n",
    "import sys\n",
    "\n",
    "from sklearn import preprocessing, cross_validation\n",
    "from sklearn.neighbors import KNeighborsClassifier  \n",
    "from sklearn.svm import SVC\n",
    "\n",
    "from sklearn import model_selection\n",
    "from sklearn.metrics import classification_report,accuracy_score\n",
    "from pandas.plotting import scatter_matrix\n",
    "import matplotlib.pyplot as plt"
   ]
  },
  {
   "cell_type": "markdown",
   "metadata": {},
   "source": [
    "## Data Description"
   ]
  },
  {
   "cell_type": "markdown",
   "metadata": {},
   "source": [
    "The dataset used for this project is the breast-cancer-wisconsin data. This data is made available by UC Irvine Machine Learning Repository and it can be found [here](http://archive.ics.uci.edu/ml/machine-learning-databases/breast-cancer-wisconsin/breast-cancer-wisconsin.data) and is ready to use. The data contains info about various indicators of tumor. "
   ]
  },
  {
   "cell_type": "code",
   "execution_count": null,
   "metadata": {},
   "outputs": [],
   "source": [
    "url = \"http://archive.ics.uci.edu/ml/machine-learning-databases/breast-cancer-wisconsin/breast-cancer-wisconsin.data\"\n",
    "names = ['id', 'clump_thickness', 'uniform_cell_size', 'uniform_cell_shape', 'marginal_adhesion', 'single_epithelial_size', 'bare_nuclei', 'bland_cromatin','normal_nucleoli','mitoses', 'class']\n",
    "df = pd.read_csv(url, names=names)\n",
    "df.to_csv(\"breast_cancer_wisconsin.csv\")"
   ]
  },
  {
   "cell_type": "markdown",
   "metadata": {},
   "source": [
    "Below are the first five rows of above dataset."
   ]
  },
  {
   "cell_type": "code",
   "execution_count": null,
   "metadata": {},
   "outputs": [],
   "source": [
    "df.head()"
   ]
  },
  {
   "cell_type": "markdown",
   "metadata": {},
   "source": [
    "### Preprocess the data"
   ]
  },
  {
   "cell_type": "code",
   "execution_count": null,
   "metadata": {},
   "outputs": [],
   "source": [
    "# check for the blank/missing values in the Dataframe\n",
    "var1='?'\n",
    "df[df.eq(var1).any(1)]\n",
    "#df.loc[df['uniform_cell_size'] == '?']"
   ]
  },
  {
   "cell_type": "code",
   "execution_count": null,
   "metadata": {},
   "outputs": [],
   "source": [
    " #replace the missing data with \"-99999\" (it tells complier to ignore the data).\n",
    " df.replace('?',-99999,inplace=True)"
   ]
  },
  {
   "cell_type": "code",
   "execution_count": null,
   "metadata": {},
   "outputs": [],
   "source": [
    "# Test if still any missing data is not addressed.\n",
    "var1='?'\n",
    "df[df.eq(var1).any(1)]"
   ]
  },
  {
   "cell_type": "code",
   "execution_count": null,
   "metadata": {},
   "outputs": [],
   "source": [
    "# Print all the columns\n",
    "print(df.columns)\n",
    "# Print the shape\n",
    "print(df.shape)"
   ]
  },
  {
   "cell_type": "code",
   "execution_count": null,
   "metadata": {},
   "outputs": [],
   "source": [
    "# Drop the id, since we are not drawing any inferences out of this column\n",
    "df.drop([\"id\"], 1, inplace=True)\n",
    "df.shape"
   ]
  },
  {
   "cell_type": "code",
   "execution_count": null,
   "metadata": {
    "scrolled": false
   },
   "outputs": [],
   "source": [
    "df.head()"
   ]
  },
  {
   "cell_type": "code",
   "execution_count": null,
   "metadata": {},
   "outputs": [],
   "source": [
    "df.shape"
   ]
  },
  {
   "cell_type": "markdown",
   "metadata": {},
   "source": [
    "### class column has only two value, 2 for benign and 4 for malign"
   ]
  },
  {
   "cell_type": "code",
   "execution_count": null,
   "metadata": {},
   "outputs": [],
   "source": [
    "# Data description\n",
    "# Lets understand the statistical ditribution of the data\n",
    "print(df.describe())"
   ]
  },
  {
   "cell_type": "markdown",
   "metadata": {},
   "source": [
    "<b> Inferences from the above statistical data </b>\n",
    "    - The mean of class column is close to 2, hence many people the dataset are binign.\n",
    "    - The max value is 10, hence missing values have been ignored."
   ]
  },
  {
   "cell_type": "code",
   "execution_count": null,
   "metadata": {},
   "outputs": [],
   "source": [
    "# plot histogram\n",
    "df.hist(figsize=(15,15))\n",
    "plt.show()"
   ]
  },
  {
   "cell_type": "code",
   "execution_count": null,
   "metadata": {
    "scrolled": true
   },
   "outputs": [],
   "source": [
    "scatter_matrix(df, figsize=(15,15))\n",
    "plt.show()"
   ]
  },
  {
   "cell_type": "markdown",
   "metadata": {},
   "source": [
    "The above scatar matrix shows relationship of every variable with other variables. Like -\n",
    "-  Uniform_cell_size and uniform_cell_shapeand has a strong linear relationship\n",
    "-  Not any other variables has strong linear relationship\n",
    "-  One intresting observation other variables does not clearly classifies the class variable, a uniform_cell_size of 1 malign and uniform_cell_size of 10 is also malign. Hence there is not good way to classify it. \n"
   ]
  },
  {
   "cell_type": "markdown",
   "metadata": {},
   "source": [
    "### Split the data between train and test set"
   ]
  },
  {
   "cell_type": "code",
   "execution_count": null,
   "metadata": {},
   "outputs": [],
   "source": [
    "X = np.array(df.drop(['class'],1)) # All the features except class is training set\n",
    "Y = np.array(df['class']) # Class colums is the labled data\n",
    "\n",
    "# Spilit the data between train and test in the ratio 80% and 20% respectively.\n",
    "X_train, X_test, Y_train, Y_test= cross_validation.train_test_split(X, Y, test_size=0.2) \n"
   ]
  },
  {
   "cell_type": "code",
   "execution_count": null,
   "metadata": {},
   "outputs": [],
   "source": [
    "seed = 8\n",
    "scoring = 'accuracy'"
   ]
  },
  {
   "cell_type": "code",
   "execution_count": null,
   "metadata": {},
   "outputs": [],
   "source": [
    "# Define models, I have choosen two ml models KNN and SVM for the classification.\n",
    "models = []\n",
    "models.append(('KNN', KNeighborsClassifier(n_neighbors=5))) \n",
    "models.append(('SVM', SVC()))\n",
    "\n",
    "results = [] #results of the ml models will be store here.\n",
    "names = [] # used to store the model names\n",
    "\n",
    "#loop in through models and apply it on the data\n",
    "for name, model in models:\n",
    "    kfold=model_selection.KFold(n_splits=10, random_state=seed) # kfold runs a number of time and chooses the best result\n",
    "    cv_results = model_selection.cross_val_score(model, X_train, Y_train, cv=kfold, scoring = scoring) # computes the cross validation results\n",
    "    results.append(cv_results)\n",
    "    names.append(name)\n",
    "    msg=\"%s: %f (%f)\" % (name, cv_results.mean(), cv_results.std())\n",
    "    print(msg)"
   ]
  },
  {
   "cell_type": "code",
   "execution_count": null,
   "metadata": {},
   "outputs": [],
   "source": [
    "# Fit the data/Train the model\n",
    "\n",
    "for name, model in models:\n",
    "    model.fit(X_train,Y_train)\n",
    "    predictions = model.predict(X_test)  # predict the label for the the test data\n",
    "    print(name)\n",
    "    print(accuracy_score(Y_test,predictions))  # Check the accuracy of the model in test data  \n",
    "    print(classification_report(Y_test,predictions))\n"
   ]
  },
  {
   "cell_type": "markdown",
   "metadata": {},
   "source": [
    "Our model is now ready to predict for new inputs."
   ]
  },
  {
   "cell_type": "code",
   "execution_count": null,
   "metadata": {},
   "outputs": [],
   "source": [
    "# Predict \n",
    "clf = SVC()\n",
    "\n",
    "clf.fit(X_train,Y_train)\n",
    "accuracy = clf.score(X_test,Y_test)\n",
    "print(accuracy)\n",
    "\n",
    "example = np.array([[4,2,1,1,1,2,3,2,4]])\n",
    "example = example.reshape(len(example),-1)\n",
    "prediction = clf.predict(example)\n",
    "print(prediction)"
   ]
  },
  {
   "cell_type": "code",
   "execution_count": null,
   "metadata": {},
   "outputs": [],
   "source": [
    "example = np.array([[4,2,2,10,1,9,3,2,4]])\n",
    "example = example.reshape(len(example),-1)\n",
    "prediction = clf.predict(example)\n",
    "print(prediction)"
   ]
  },
  {
   "cell_type": "markdown",
   "metadata": {},
   "source": [
    "# Thank You"
   ]
  }
 ],
 "metadata": {
  "kernelspec": {
   "display_name": "Python 3",
   "language": "python",
   "name": "python3"
  },
  "language_info": {
   "codemirror_mode": {
    "name": "ipython",
    "version": 3
   },
   "file_extension": ".py",
   "mimetype": "text/x-python",
   "name": "python",
   "nbconvert_exporter": "python",
   "pygments_lexer": "ipython3",
   "version": "3.6.4"
  }
 },
 "nbformat": 4,
 "nbformat_minor": 2
}
